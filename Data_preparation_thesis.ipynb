{
 "cells": [
  {
   "cell_type": "code",
   "execution_count": 1,
   "id": "e6d1c906",
   "metadata": {},
   "outputs": [],
   "source": [
    "import pandas as pd"
   ]
  },
  {
   "cell_type": "code",
   "execution_count": 3,
   "id": "a353b16e",
   "metadata": {},
   "outputs": [
    {
     "name": "stderr",
     "output_type": "stream",
     "text": [
      "C:\\Users\\hamri\\AppData\\Local\\Temp\\ipykernel_15628\\1907425286.py:1: DtypeWarning: Columns (18) have mixed types. Specify dtype option on import or set low_memory=False.\n",
      "  data = pd.read_csv('105_2013_2019_features_v3_2.csv')\n"
     ]
    }
   ],
   "source": [
    "## Подгрузка чернового варианта базы данных\n",
    "\n",
    "data = pd.read_csv('105_2013_2019_features_v3_2.csv')"
   ]
  },
  {
   "cell_type": "code",
   "execution_count": 4,
   "id": "cac0c90c",
   "metadata": {
    "scrolled": true
   },
   "outputs": [
    {
     "data": {
      "text/plain": [
       "Index(['ID', 'custom_case_judge_id', 'Субъект РФ', 'Наименование суда',\n",
       "       'case_judge', 'Номер дела (материала)', 'Тип документа', 'Статья УК РФ',\n",
       "       'Дата поступления', 'Дата решения', 'ФИО', 'Результат', 'text',\n",
       "       'Источник', 'n_offenders', 'case_date_upload', 'case_judge_id', 'year',\n",
       "       'Судья', 'alcohol', 'alcohol_phrase', 'soft', 'soft_phrase', 'hard',\n",
       "       'hard_phrase', 'prison_type', 'prison_type_phrase', 'gender_offender',\n",
       "       'gender_offender_phrase', 'gender_victim', 'gender_victim_phrase',\n",
       "       'sentence_period_phrase', 'sentence_period_years',\n",
       "       'sentence_period_months', 'sentence_period_years_int',\n",
       "       'sentence_period_months_int', 'text_prep', 'recidivism',\n",
       "       'recidivism_phrase', 'guilty_plea', 'guilty_plea_phrase',\n",
       "       'gender_judge', 'weapon', 'weapon_phrase', 'weapon_knife', 'weapon_gun',\n",
       "       'weapon_hands', 'weapon_legs', 'weapon_other', 'weapon_not_defined',\n",
       "       'weapon_not_used', 'soft_2', 'soft_2_phrase', 'hard_2', 'hard_2_phrase',\n",
       "       'recidivism_type', 'hard_3'],\n",
       "      dtype='object')"
      ]
     },
     "execution_count": 4,
     "metadata": {},
     "output_type": "execute_result"
    }
   ],
   "source": [
    "## Названия всех столбцов таблицы\n",
    "\n",
    "data.columns"
   ]
  },
  {
   "cell_type": "code",
   "execution_count": 35,
   "id": "b61078ed",
   "metadata": {},
   "outputs": [],
   "source": [
    "## Отбор релевантных для исследования признаков\n",
    "\n",
    "data_rel = data[[\n",
    "    'ID', 'Дата поступления', 'Дата решения', 'text', 'ФИО', 'gender_judge',\n",
    "    'gender_victim', 'soft', 'hard', 'recidivism', 'guilty_plea', 'year', \n",
    "    'sentence_period_months_int', 'sentence_period_years_int'\n",
    "]].copy()"
   ]
  },
  {
   "cell_type": "code",
   "execution_count": 51,
   "id": "a234cfeb",
   "metadata": {
    "scrolled": true
   },
   "outputs": [],
   "source": [
    "## Подгрузка финальной базы данных  \n",
    "\n",
    "data_reg = pd.read_csv('regression_data.csv')"
   ]
  },
  {
   "cell_type": "code",
   "execution_count": 52,
   "id": "1f045392",
   "metadata": {},
   "outputs": [
    {
     "data": {
      "text/plain": [
       "Index(['Unnamed: 0', 'ID', 'gender_victim', 'gender_judge', 'gender_offender',\n",
       "       'recidivism_type', 'guilty_plea', 'soft_binary', 'hard_binary',\n",
       "       'rel_type', 'year', 'children', 'sentence_period_whole', 'region',\n",
       "       'Наименование суда'],\n",
       "      dtype='object')"
      ]
     },
     "execution_count": 52,
     "metadata": {},
     "output_type": "execute_result"
    }
   ],
   "source": [
    "## Названия всех столбцов финальной базы данных \n",
    "\n",
    "data_reg.columns"
   ]
  },
  {
   "cell_type": "code",
   "execution_count": 43,
   "id": "98093b31",
   "metadata": {},
   "outputs": [],
   "source": [
    "## Отбор наблюдений, имеющихся в обеих таблицах, по идентификатору уголовного дела\n",
    "\n",
    "data_fast = data_rel.merge(data_reg, on='ID').copy()"
   ]
  },
  {
   "cell_type": "code",
   "execution_count": 132,
   "id": "de8e901e",
   "metadata": {},
   "outputs": [
    {
     "data": {
      "text/plain": [
       "Index(['ID', 'custom_case_judge_id', 'Субъект РФ', 'Наименование суда',\n",
       "       'case_judge', 'Номер дела (материала)', 'Тип документа', 'Статья УК РФ',\n",
       "       'Дата поступления', 'Дата решения', 'ФИО', 'Результат', 'text',\n",
       "       'Источник', 'n_offenders', 'case_date_upload', 'case_judge_id', 'year',\n",
       "       'Судья', 'alcohol', 'alcohol_phrase', 'soft', 'soft_phrase', 'hard',\n",
       "       'hard_phrase', 'prison_type', 'prison_type_phrase', 'gender_offender',\n",
       "       'gender_offender_phrase', 'gender_victim', 'gender_victim_phrase',\n",
       "       'sentence_period_phrase', 'sentence_period_years',\n",
       "       'sentence_period_months', 'sentence_period_years_int',\n",
       "       'sentence_period_months_int', 'text_prep', 'recidivism',\n",
       "       'recidivism_phrase', 'guilty_plea', 'guilty_plea_phrase',\n",
       "       'gender_judge', 'weapon', 'weapon_phrase', 'weapon_knife', 'weapon_gun',\n",
       "       'weapon_hands', 'weapon_legs', 'weapon_other', 'weapon_not_defined',\n",
       "       'weapon_not_used', 'soft_2', 'soft_2_phrase', 'hard_2', 'hard_2_phrase',\n",
       "       'recidivism_type', 'hard_3'],\n",
       "      dtype='object')"
      ]
     },
     "execution_count": 132,
     "metadata": {},
     "output_type": "execute_result"
    }
   ],
   "source": [
    "## Названия всех столбцов обобщенной таблицы\n",
    "\n",
    "data.columns"
   ]
  },
  {
   "cell_type": "code",
   "execution_count": 105,
   "id": "c8b4b512",
   "metadata": {
    "scrolled": true
   },
   "outputs": [],
   "source": [
    "## Ключевая фильтрация уголовных дел по следующим параметрам: \n",
    "## 1) Год вынесения приговора -- 2017, 2018 или 2019\n",
    "## 2) Пол жертвы -- женский\n",
    "## 3) Пол убийцы -- мужской\n",
    "## 4) Обвиняемый и потерпевшая являлись интимными партнерами \n",
    "\n",
    "data_fast_2019_sur = data_fast[\n",
    "    (data_fast['year_x'].isin([2017, 2018, 2019])) &\\\n",
    "    (data_fast['gender_victim_x'] == 'женский') &\\\n",
    "    (data_fast['gender_offender'] == 'мужской') &\\\n",
    "    (data_fast['rel_type'] == '1 Убит партнер')\n",
    "]['ID']"
   ]
  },
  {
   "cell_type": "code",
   "execution_count": 107,
   "id": "ebde017c",
   "metadata": {},
   "outputs": [],
   "source": [
    "## Сохранение идентификаторов уголовного дела для дальнейшего поиска релевантных постов в ВК\n",
    "\n",
    "data_fast_2019_sur.to_csv('fast_women_cases_id_2018_diplom.csv')"
   ]
  },
  {
   "cell_type": "code",
   "execution_count": 59,
   "id": "c8030063",
   "metadata": {},
   "outputs": [],
   "source": [
    "## Датасет с обучением модели"
   ]
  },
  {
   "cell_type": "code",
   "execution_count": 90,
   "id": "d5f13013",
   "metadata": {},
   "outputs": [],
   "source": [
    "## Отбор наблюдений, которые есть в изначальной версии базы данных, \n",
    "## но нет в финальной \n",
    "## Для этого ставится тип объединения left\n",
    "\n",
    "data_rel_all = data_rel.merge(data_reg, how='left', on='ID').copy()"
   ]
  },
  {
   "cell_type": "code",
   "execution_count": 100,
   "id": "a2daa14d",
   "metadata": {},
   "outputs": [],
   "source": [
    "## Отбор только тех уголовных дел, которых нет в финальной базе данных\n",
    "## Фильтром стал признак наличия несовершеннолетних детей у обвиняемого (children)\n",
    "## Соответственно, были отобраны только те наблюдения, где не нашлось данных в этой колонке,\n",
    "## что характеризует наблюдения первоначальной базы данных\n",
    "## Также была проведена фильтрация по году \n",
    "\n",
    "data_rell_all_2 = data_rel_all[\n",
    "    (~data_rel_all['children'].notnull()) &\\\n",
    "    (data_rel_all['year_x'].isin([2017, 2018, 2019]))\n",
    "].dropna(subset=['Дата решения']).copy()"
   ]
  },
  {
   "cell_type": "code",
   "execution_count": 104,
   "id": "6ac4ac7b",
   "metadata": {},
   "outputs": [],
   "source": [
    "## Для отобранных наблюдений необходимо выбрать идентификатор уголовного дела \n",
    "## для дальнейшего объединения с признаками, а также ФИО, текст приговора,  \n",
    "## даты поступления уголовного дела в суд и вынесения решения по делу \n",
    "\n",
    "data_rell_all_2[[\n",
    "    'ID', \n",
    "    'ФИО', \n",
    "    'text', \n",
    "    'Дата поступления', \n",
    "    'Дата решения'\n",
    "]].to_csv('data_for_model_diplom.csv')"
   ]
  }
 ],
 "metadata": {
  "kernelspec": {
   "display_name": "Python 3 (ipykernel)",
   "language": "python",
   "name": "python3"
  },
  "language_info": {
   "codemirror_mode": {
    "name": "ipython",
    "version": 3
   },
   "file_extension": ".py",
   "mimetype": "text/x-python",
   "name": "python",
   "nbconvert_exporter": "python",
   "pygments_lexer": "ipython3",
   "version": "3.10.2"
  }
 },
 "nbformat": 4,
 "nbformat_minor": 5
}
