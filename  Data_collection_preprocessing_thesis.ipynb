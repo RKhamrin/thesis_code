{
 "cells": [
  {
   "cell_type": "code",
   "execution_count": 1,
   "metadata": {
    "id": "_i7We4aR4L_6"
   },
   "outputs": [],
   "source": [
    "## Импорт необходимых библиотек \n",
    "\n",
    "import pandas as pd\n",
    "import numpy as np\n",
    "\n",
    "import matplotlib.pyplot as plt\n",
    "import seaborn as sns\n",
    "\n",
    "import re\n",
    "\n",
    "from datetime import datetime"
   ]
  },
  {
   "cell_type": "markdown",
   "metadata": {
    "id": "YB4YbVADX1pd"
   },
   "source": []
  },
  {
   "cell_type": "code",
   "execution_count": 2,
   "metadata": {},
   "outputs": [
    {
     "name": "stderr",
     "output_type": "stream",
     "text": [
      "C:\\Users\\hamri\\AppData\\Local\\Temp\\ipykernel_3004\\1907425286.py:1: DtypeWarning: Columns (18) have mixed types. Specify dtype option on import or set low_memory=False.\n",
      "  data = pd.read_csv('105_2013_2019_features_v3_2.csv')\n"
     ]
    }
   ],
   "source": [
    "## Подгрузка черновой базы статьи \n",
    "\n",
    "data = pd.read_csv('105_2013_2019_features_v3_2.csv')"
   ]
  },
  {
   "cell_type": "code",
   "execution_count": 3,
   "metadata": {},
   "outputs": [],
   "source": [
    "## Подгрузка собранных идентификаторов релевантных уголовных дел\n",
    "## fast_id -- идентификаторы дел, размеченных в финальной базе данных \n",
    "## model_id -- идентификаторы дел, размеченных моделью как релевантные\n",
    "\n",
    "fast_id = pd.read_csv('fast_women_cases_id_2018_diplom.csv')\n",
    "model_id = pd.read_csv('women_cases_id_2018_diplom.csv')"
   ]
  },
  {
   "cell_type": "code",
   "execution_count": 4,
   "metadata": {},
   "outputs": [],
   "source": [
    "## Подгрузка финальной базы данных статьи  \n",
    "\n",
    "data_reg = pd.read_csv('regression_data.csv')"
   ]
  },
  {
   "cell_type": "code",
   "execution_count": 6,
   "metadata": {},
   "outputs": [],
   "source": [
    "## Отбор фамилий и инициалов подсудимых в релевантных уголовных делах\n",
    "\n",
    "surnames = data[\n",
    "    data['ID'].isin(fast_id['ID'].tolist() + model_id['ID'].tolist())\n",
    "]['ФИО'].tolist()"
   ]
  },
  {
   "cell_type": "code",
   "execution_count": 16,
   "metadata": {},
   "outputs": [],
   "source": [
    "## Отбор года вынесения приговора в релевантных уголовных делах\n",
    "\n",
    "years = data[\n",
    "    data['ID'].isin(fast_id['ID'].tolist() + model_id['ID'].tolist())\n",
    "]['year'].tolist()"
   ]
  },
  {
   "cell_type": "code",
   "execution_count": 7,
   "metadata": {},
   "outputs": [],
   "source": [
    "## Подгрузка необходимых для веб-скрейпинга библиотек\n",
    "\n",
    "from selenium import webdriver as wd\n",
    "from selenium.webdriver.common.keys import Keys\n",
    "from selenium.webdriver.common.by import By\n",
    "from getpass import getpass\n",
    "from bs4 import BeautifulSoup\n",
    "from time import sleep\n",
    "from webdriver_manager.chrome import ChromeDriverManager\n",
    "from selenium.webdriver.chrome.service import Service\n",
    "from tqdm import tqdm \n",
    "import requests"
   ]
  },
  {
   "cell_type": "code",
   "execution_count": 1274,
   "metadata": {},
   "outputs": [],
   "source": [
    "## Сбор ссылок по запросам в браузере \n",
    "## Формирование слов для внесения в запрос\n",
    "rel_phrases = ['убийство', 'смерть', 'домашнее насилие', 'суд', 'наказание', 'преступление']\n",
    "posts_all = pd.DataFrame()\n",
    "\n",
    "## Проход по всем фамилиям и годам заключения\n",
    "for surname, year in tqdm(zip(surnames, years)):\n",
    "    ## Проход по всем релевантным словам\n",
    "    for phrase in rel_phrases:\n",
    "        ## Загрузка страницы \n",
    "        br = wd.Chrome(service=Service(ChromeDriverManager().install()))\n",
    "        ## Инициализация запроса\n",
    "        br.get('https://www.google.com/search?q=%D0%B2%D0%BA%D0%BE%D0%BD%D1%82%D0%B0%D0%BA%D1%82%D0%B5&oq=%D0%B2%D0%BA%D0%BE%D0%BD%D1%82%D0%B0%D0%BA&gs_lcrp=EgZjaHJvbWUqFQgAEAAYQxiDARjjAhixAxiABBiKBTIVCAAQABhDGIMBGOMCGLEDGIAEGIoFMhgIARAuGEMYgwEYxwEYsQMY0QMYgAQYigUyBggCEEUYOTINCAMQABiDARixAxiABDIHCAQQABiABDINCAUQABiDARixAxiABDIGCAYQBRhAMgYIBxBFGD2oAgCwAgA&sourceid=chrome&ie=UTF-8')\n",
    "        ## Имитация заполнения строки поиска и нажатия кнопки\n",
    "        search_box = br.find_element(By.NAME, \"q\")\n",
    "        search_box.send_keys(f\" {phrase} {surname} {year} год\")\n",
    "        search_box.submit()\n",
    "        ## Имитация ожидания \n",
    "        br.implicitly_wait(2)\n",
    "        \n",
    "        ## Загрузка кода страницы\n",
    "        html = br.page_source\n",
    "        soup = BeautifulSoup(html)\n",
    "        \n",
    "        ## Сбор ссылок со страницы\n",
    "        links = []\n",
    "        for link_info in soup.find_all('a'):\n",
    "            links.append(link_info.get('href'))\n",
    "        posts = pd.DataFrame(links)\n",
    "        posts['surname'] = surname\n",
    "        \n",
    "        posts_all = pd.concat([posts_all, posts])\n",
    "        ## Имитация ожидания \n",
    "        br.implicitly_wait(2)"
   ]
  },
  {
   "cell_type": "code",
   "execution_count": 22,
   "metadata": {},
   "outputs": [],
   "source": [
    "## Удаление дубликатов\n",
    "\n",
    "posts_all = posts_all.dropna().drop_duplicates()"
   ]
  },
  {
   "cell_type": "code",
   "execution_count": 23,
   "metadata": {},
   "outputs": [],
   "source": [
    "## Нахождение релевантных подстрок для определения ссылок на новостные публикации в ВКонтакте \n",
    "\n",
    "posts_all['is_vk'] = posts_all[0].apply(lambda x: 1 if 'vk.com' in x else 0)\n",
    "posts_all['is_wall'] = posts_all[0].apply(lambda x: 1 if 'wall' in x else 0)\n",
    "posts_all['is_vk_wall'] = posts_all[0].apply(lambda x: 1 if 'vk.com/wall' in x else 0)"
   ]
  },
  {
   "cell_type": "code",
   "execution_count": 51,
   "metadata": {},
   "outputs": [
    {
     "name": "stdout",
     "output_type": "stream",
     "text": [
      "https://oauth.vk.com/authorize?client_id=51542144&display=page&redirect_uri=http://oauth.vk.com/blank.html&scope=all&response_type=token\n"
     ]
    }
   ],
   "source": [
    "## Формирование токена для доступа к ВК API\n",
    "\n",
    "app_id = ## Ваше название приложения\n",
    "url = f\"https://oauth.vk.com/authorize?client_id={app_id}&display=page&redirect_uri=http://oauth.vk.com/blank.html&scope=all&response_type=token\"\n",
    "print(url)"
   ]
  },
  {
   "cell_type": "code",
   "execution_count": 52,
   "metadata": {},
   "outputs": [],
   "source": [
    "## Определение токена\n",
    "\n",
    "full_link = ''\n",
    "token = full_link.split(\"access_token=\")[1].split(\"&\")[0]"
   ]
  },
  {
   "cell_type": "code",
   "execution_count": 26,
   "metadata": {},
   "outputs": [],
   "source": [
    "## Функция для выгрузки информации о релевантных новостных публикациях в ВКонтакте\n",
    "\n",
    "def get_charac(x):\n",
    "    x = '-' + x.split('-')[1]\n",
    "    main_news = f\"https://api.vk.com/method/wall.getById\"\n",
    "    params = {\n",
    "        'access_token': token,\n",
    "        'v': '5.199',\n",
    "        'posts': x,\n",
    "    }\n",
    "\n",
    "    req_wall = requests.get(main_news, params = params)\n",
    "    data = req_wall.json()\n",
    "    try:\n",
    "        data = pd.DataFrame(data['response']['items'])\n",
    "    except KeyError:\n",
    "        return pd.DataFrame([0])\n",
    "    \n",
    "    return data"
   ]
  },
  {
   "cell_type": "code",
   "execution_count": 40,
   "metadata": {},
   "outputs": [],
   "source": [
    "## Функция приведения ссылок к одному формату для передачи в API \n",
    "\n",
    "def get_post_info(x):\n",
    "    x = x.split('?')[0].split('-')[-1]\n",
    "    if x.replace('_', '').isdigit():\n",
    "        return x\n",
    "    else:\n",
    "        return 0"
   ]
  },
  {
   "cell_type": "code",
   "execution_count": 41,
   "metadata": {},
   "outputs": [],
   "source": [
    "## Отбор релевантных ссылок \n",
    "\n",
    "posts_vk = posts_all[\n",
    "    posts_all['is_vk_wall'] == 1\n",
    "].copy()"
   ]
  },
  {
   "cell_type": "code",
   "execution_count": 42,
   "metadata": {},
   "outputs": [],
   "source": [
    "## Форматирование ссылок с помощью функции \n",
    "\n",
    "posts_vk['post_link'] = posts_vk[0].apply(\n",
    "    lambda x: get_post_info(x)\n",
    ")\n",
    "posts_vk['clear_link'] = posts_vk[0].apply(lambda x: x.split('?')[0]).tolist()"
   ]
  },
  {
   "cell_type": "code",
   "execution_count": 65,
   "metadata": {},
   "outputs": [],
   "source": [
    "## Отбор релевантных ссылок \n",
    "\n",
    "posts_link = posts_vk[\n",
    "    posts_vk['post_link'] != 0\n",
    "]['clear_link'].tolist()"
   ]
  },
  {
   "cell_type": "code",
   "execution_count": 71,
   "metadata": {},
   "outputs": [
    {
     "name": "stderr",
     "output_type": "stream",
     "text": [
      "100%|████████████████████████████████████████████████████████████████████████████████| 733/733 [01:45<00:00,  6.93it/s]\n"
     ]
    }
   ],
   "source": [
    "## Сбор информации о публикациях \n",
    "\n",
    "posts_list = []\n",
    "\n",
    "for link in tqdm(posts_link):\n",
    "    link_info = get_charac(link)\n",
    "    link_info['link'] = link\n",
    "    posts_list.append(link_info)"
   ]
  },
  {
   "cell_type": "code",
   "execution_count": 74,
   "metadata": {},
   "outputs": [
    {
     "name": "stderr",
     "output_type": "stream",
     "text": [
      "100%|███████████████████████████████████████████████████████████████████████████████| 733/733 [00:03<00:00, 207.53it/s]\n"
     ]
    }
   ],
   "source": [
    "## Формирование единого датафрейма информации о собранных постах\n",
    "\n",
    "etalon_cols = posts_list[0].columns[:-1]\n",
    "posts_final_list = []\n",
    "for post_info in tqdm(posts_list):\n",
    "    if len(post_info.columns) < 10:\n",
    "        for col in etalon_cols:\n",
    "            post_info[col] = '-'\n",
    "    posts_final_list.append(post_info)\n",
    "posts_charac = pd.concat([i for i in posts_final_list])"
   ]
  },
  {
   "cell_type": "code",
   "execution_count": 85,
   "metadata": {},
   "outputs": [
    {
     "data": {
      "text/plain": [
       "Index([       'inner_type',             'donut',          'comments',\n",
       "           'marked_as_ads',   'short_text_rate',              'hash',\n",
       "         'has_translation',              'type',       'attachments',\n",
       "                    'date',           'from_id',                'id',\n",
       "             'is_favorite',             'likes',   'reaction_set_id',\n",
       "               'reactions',          'owner_id',       'post_source',\n",
       "               'post_type',           'reposts',              'text',\n",
       "                   'views',              'link',   'carousel_offset',\n",
       "       'donut_miniapp_url',         'signer_id',            'edited',\n",
       "                         0,         'copyright',        'is_deleted',\n",
       "          'deleted_reason',   'deleted_details',      'copy_history',\n",
       "               'zoom_text'],\n",
       "      dtype='object')"
      ]
     },
     "execution_count": 85,
     "metadata": {},
     "output_type": "execute_result"
    }
   ],
   "source": [
    "## Собранные из постов в ВКонтакте характеристики  \n",
    "\n",
    "posts_charac.columns"
   ]
  },
  {
   "cell_type": "code",
   "execution_count": 464,
   "metadata": {},
   "outputs": [],
   "source": [
    "import numpy as np"
   ]
  },
  {
   "cell_type": "code",
   "execution_count": 88,
   "metadata": {},
   "outputs": [],
   "source": [
    "## Объединение изначального датасета по ссылкам с датасетом информации о постах \n",
    "## Используется inner join для отбрасывания \n",
    "\n",
    "posts_vk = posts_vk.rename(columns = {0: 'link'})\n",
    "\n",
    "final_posts_vk = posts_vk.merge(\n",
    "    posts_charac,\n",
    "    on='link'\n",
    ").copy()"
   ]
  },
  {
   "cell_type": "code",
   "execution_count": 441,
   "metadata": {},
   "outputs": [],
   "source": [
    "## Объединение полученных данных с датами вынесения приговора и поступления уголовного дела \n",
    "## для фильтрации нерелевантных наблюдений\n",
    "\n",
    "data['surname'] = data['ФИО']\n",
    "final_posts_vk_no_dup_info = final_posts_vk.merge(data[[\n",
    "    'surname', 'Дата поступления', 'Дата решения'\n",
    "]], on='surname').copy().dropna(subset=['Дата поступления', 'Дата решения'])"
   ]
  },
  {
   "cell_type": "code",
   "execution_count": 442,
   "metadata": {},
   "outputs": [],
   "source": [
    "## Функция перевода даты в формат epoch \n",
    "\n",
    "import calendar, time\n",
    "def get_epoch_time(x):\n",
    "   return calendar.timegm(time.strptime(x, '%d.%m.%Y'))"
   ]
  },
  {
   "cell_type": "code",
   "execution_count": 454,
   "metadata": {},
   "outputs": [],
   "source": [
    "## Применение функции перевода даты в формат epoch к дате поступления уголовного дела и дате вынесения приговора \n",
    "\n",
    "final_posts_vk_no_dup_info['start_date'] = final_posts_vk_no_dup_info['Дата поступления'].apply(\n",
    "    lambda x: get_epoch_time(x)\n",
    ")\n",
    "final_posts_vk_no_dup_info['end_date'] = final_posts_vk_no_dup_info['Дата решения'].apply(\n",
    "    lambda x: get_epoch_time(x)\n",
    ")\n",
    "\n",
    "## Проверка на наличие фамилии в тексте поста\n",
    "final_posts_vk_no_dup_info['is_surname'] = final_posts_vk_no_dup_info.apply(\n",
    "    lambda x: 1 if x['surname'][:-2].split()[0] in x['text'] else 0,\n",
    "    axis=1\n",
    ")\n",
    "## Определение убийства в посте \n",
    "final_posts_vk_no_dup_info['is_crime'] = final_posts_vk_no_dup_info['text'].apply(\n",
    "    lambda x: 1 if 'уби' in x or 'смерт' in x or 'насили' in x else 0 \n",
    ")\n",
    "\n",
    "## Проверка на срок выкладывания публикации \n",
    "final_posts_vk_no_dup_info['is_actual'] = final_posts_vk_no_dup_info.apply(\n",
    "    lambda x: 1 if x['start_date'] <= x['date'] and x['date'] <= x['end_date'] else 0,\n",
    "    axis=1\n",
    ")"
   ]
  },
  {
   "cell_type": "code",
   "execution_count": 460,
   "metadata": {},
   "outputs": [],
   "source": [
    "## Отбор релевантных ссылок с учетом\n",
    "## Временных ограничений, фамилии и тематики поста\n",
    "\n",
    "rel_links = final_posts_vk_no_dup_info[\n",
    "    (final_posts_vk_no_dup_info['is_actual'] == 1) &\\\n",
    "    (final_posts_vk_no_dup_info['is_surname'] == 1 ) &\\\n",
    "    (final_posts_vk_no_dup_info['is_crime'] == 1)\n",
    "].copy()['link']"
   ]
  },
  {
   "cell_type": "code",
   "execution_count": 462,
   "metadata": {},
   "outputs": [],
   "source": [
    "## Отбор характеристик релевантных ссылок\n",
    "\n",
    "final_posts_vk_no_dup = final_posts_vk_no_dup_info[\n",
    "    final_posts_vk_no_dup_info['link'].isin(rel_links)\n",
    "]"
   ]
  },
  {
   "cell_type": "code",
   "execution_count": 133,
   "metadata": {},
   "outputs": [],
   "source": [
    "posts_vk_rel_cols = final_posts_vk_no_dup[[\n",
    "    'surname', \n",
    "    'comments',\n",
    "    'likes',\n",
    "    'views',\n",
    "    'reposts'\n",
    "]].copy()"
   ]
  },
  {
   "cell_type": "code",
   "execution_count": 134,
   "metadata": {},
   "outputs": [],
   "source": [
    "posts_vk_rel_cols['comments_cnt'] = posts_vk_rel_cols['comments'].apply(\n",
    "    lambda x: x['count'] if isinstance(x, dict) else 0\n",
    ")\n",
    "posts_vk_rel_cols['likes_cnt'] = posts_vk_rel_cols['likes'].apply(\n",
    "    lambda x: x['count'] if isinstance(x, dict) else 0\n",
    ")\n",
    "posts_vk_rel_cols['views_cnt'] = posts_vk_rel_cols['views'].apply(\n",
    "    lambda x: x['count'] if isinstance(x, dict) else 0\n",
    ")\n",
    "posts_vk_rel_cols['reposts_cnt'] = posts_vk_rel_cols['reposts'].apply(\n",
    "    lambda x: x['count'] if isinstance(x, dict) else 0\n",
    ")"
   ]
  },
  {
   "cell_type": "code",
   "execution_count": 135,
   "metadata": {},
   "outputs": [],
   "source": [
    "## Группировка статистик релевантных постов по фамилии обвиняемого \n",
    "\n",
    "vk_stats = pd.DataFrame(posts_vk_rel_cols.groupby('surname').agg(\n",
    "    {\n",
    "        'views_cnt': ['sum'],\n",
    "        'comments_cnt': ['sum'],\n",
    "        'likes_cnt': ['sum'],\n",
    "        'reposts_cnt': ['sum']\n",
    "    }\n",
    ").values, columns = [\n",
    "    'views_cnt', 'comments_cnt', 'likes_cnt', 'reposts_cnt'\n",
    "])\n",
    "\n",
    "## Определение фамилии обвиняемого \n",
    "vk_stats['ФИО'] = posts_vk_rel_cols.groupby('surname').agg(\n",
    "    {\n",
    "        'views_cnt': ['sum'],\n",
    "        'comments_cnt': ['sum'],\n",
    "        'likes_cnt': ['sum'],\n",
    "        'reposts_cnt': ['sum']\n",
    "    }\n",
    ").index.tolist()"
   ]
  },
  {
   "cell_type": "code",
   "execution_count": 190,
   "metadata": {},
   "outputs": [],
   "source": [
    "## Присоединение к изначальной базе аггрегированных статистик релевантных постов\n",
    "## Повторный отбор наблюдений для проверки\n",
    "## Чистка от случаев, где невозможно определить целевую переменную -- срок заключения\n",
    "\n",
    "dataset = data.merge(vk_stats,on='ФИО').drop_duplicates(subset=['ФИО']).copy()\n",
    "dataset = dataset[\n",
    "    dataset['year'].isin([2017, 2018, 2019])\n",
    "].dropna(subset='Дата поступления').copy()\n",
    "dataset = dataset[\n",
    "    (~dataset['sentence_period_months_int'].isin([\n",
    "        'ЧИСЛО МЕСЯЦЕВ В СРОКЕ НЕ УСТАНОВЛЕНО', 'ДАННЫЕ ИЗЪЯТЫ'\n",
    "    ])) &\n",
    "    (~dataset['sentence_period_years_int'].isin([\n",
    "        'ЧИСЛО МЕСЯЦЕВ В СРОКЕ НЕ УСТАНОВЛЕНО', 'ДАННЫЕ ИЗЪЯТЫ'\n",
    "    ])) \n",
    "].copy()"
   ]
  },
  {
   "cell_type": "code",
   "execution_count": null,
   "metadata": {},
   "outputs": [],
   "source": [
    "## Датасет на базе черновой базе данных статьи"
   ]
  },
  {
   "cell_type": "code",
   "execution_count": 198,
   "metadata": {},
   "outputs": [],
   "source": [
    "## Отбор релевантных колонок из промежуточной базы данных \n",
    "\n",
    "dataset_rel = dataset[[\n",
    "    'ID', 'Дата поступления', 'Дата решения', 'text', 'ФИО', 'gender_judge',\n",
    "    'soft', 'hard', 'recidivism', 'guilty_plea', 'alcohol', 'year', \n",
    "    'sentence_period_months_int', 'sentence_period_years_int', 'views_cnt',\n",
    "    'comments_cnt', 'likes_cnt', 'reposts_cnt',\n",
    "]].copy()"
   ]
  },
  {
   "cell_type": "code",
   "execution_count": 200,
   "metadata": {},
   "outputs": [],
   "source": [
    "dataset_final = dataset_rel.copy()"
   ]
  },
  {
   "cell_type": "code",
   "execution_count": null,
   "metadata": {},
   "outputs": [],
   "source": [
    "## Кодирование переменных"
   ]
  },
  {
   "cell_type": "code",
   "execution_count": 213,
   "metadata": {},
   "outputs": [],
   "source": [
    "## Определение количества месяцев и лет срока заключения\n",
    "## Формирование срока заключения и фильтрация значений 0 \n",
    "\n",
    "dataset_final['months_final'] = dataset_final['sentence_period_months_int'].apply(\n",
    "    lambda x: int(x.split('.')[0]) if x.replace('.', '').isdigit() else 0\n",
    ")\n",
    "\n",
    "dataset_final['years_final'] = dataset_final['sentence_period_years_int'].apply(\n",
    "    lambda x: int(x.split('.')[0]) if x.replace('.', '').isdigit() else 0\n",
    ")\n",
    "\n",
    "dataset_final['length_of_imprisonment'] = dataset_final['years_final'] * 12 + dataset_final['months_final']\n",
    "dataset_final = dataset_final[\n",
    "    dataset_final['length_of_imprisonment'] != 0\n",
    "]"
   ]
  },
  {
   "cell_type": "code",
   "execution_count": 373,
   "metadata": {},
   "outputs": [
    {
     "name": "stderr",
     "output_type": "stream",
     "text": [
      "C:\\Users\\hamri\\AppData\\Local\\Temp\\ipykernel_3004\\2283349991.py:1: SettingWithCopyWarning: \n",
      "A value is trying to be set on a copy of a slice from a DataFrame.\n",
      "Try using .loc[row_indexer,col_indexer] = value instead\n",
      "\n",
      "See the caveats in the documentation: https://pandas.pydata.org/pandas-docs/stable/user_guide/indexing.html#returning-a-view-versus-a-copy\n",
      "  dataset_final['soft_bin'] = dataset_final['soft'].apply(\n",
      "C:\\Users\\hamri\\AppData\\Local\\Temp\\ipykernel_3004\\2283349991.py:4: SettingWithCopyWarning: \n",
      "A value is trying to be set on a copy of a slice from a DataFrame.\n",
      "Try using .loc[row_indexer,col_indexer] = value instead\n",
      "\n",
      "See the caveats in the documentation: https://pandas.pydata.org/pandas-docs/stable/user_guide/indexing.html#returning-a-view-versus-a-copy\n",
      "  dataset_final['hard_bin'] = dataset_final['hard'].apply(\n",
      "C:\\Users\\hamri\\AppData\\Local\\Temp\\ipykernel_3004\\2283349991.py:7: SettingWithCopyWarning: \n",
      "A value is trying to be set on a copy of a slice from a DataFrame.\n",
      "Try using .loc[row_indexer,col_indexer] = value instead\n",
      "\n",
      "See the caveats in the documentation: https://pandas.pydata.org/pandas-docs/stable/user_guide/indexing.html#returning-a-view-versus-a-copy\n",
      "  dataset_final['recidivism_bin'] = dataset_final['recidivism'].apply(\n",
      "C:\\Users\\hamri\\AppData\\Local\\Temp\\ipykernel_3004\\2283349991.py:10: SettingWithCopyWarning: \n",
      "A value is trying to be set on a copy of a slice from a DataFrame.\n",
      "Try using .loc[row_indexer,col_indexer] = value instead\n",
      "\n",
      "See the caveats in the documentation: https://pandas.pydata.org/pandas-docs/stable/user_guide/indexing.html#returning-a-view-versus-a-copy\n",
      "  dataset_final['alcohol_bin'] = dataset_final['alcohol'].apply(\n",
      "C:\\Users\\hamri\\AppData\\Local\\Temp\\ipykernel_3004\\2283349991.py:13: SettingWithCopyWarning: \n",
      "A value is trying to be set on a copy of a slice from a DataFrame.\n",
      "Try using .loc[row_indexer,col_indexer] = value instead\n",
      "\n",
      "See the caveats in the documentation: https://pandas.pydata.org/pandas-docs/stable/user_guide/indexing.html#returning-a-view-versus-a-copy\n",
      "  dataset_final['guilty_plea_order'] = dataset_final['guilty_plea'].apply(\n"
     ]
    }
   ],
   "source": [
    "## Перекодирование используемых в анализе переменных\n",
    "\n",
    "dataset_final['gender_judge_bin'] = dataset_final['gender_judge'].apply(\n",
    "    lambda x: 1 if x == 'Мужской' else 0\n",
    ")\n",
    "dataset_final['soft_bin'] = dataset_final['soft'].apply(\n",
    "    lambda x: 1 if x == 'Смягчающие признаны' else 0 \n",
    ")\n",
    "dataset_final['hard_bin'] = dataset_final['hard'].apply(\n",
    "    lambda x: 1 if x == 'Отягчающие признаны' else 0 \n",
    ")\n",
    "dataset_final['recidivism_bin'] = dataset_final['recidivism'].apply(\n",
    "    lambda x: 1 if x == 'есть судимость' else 0 \n",
    ")\n",
    "dataset_final['alcohol_bin'] = dataset_final['alcohol'].apply(\n",
    "    lambda x: 1 if x == 'Алкоголь присутствует' else 0 \n",
    ")\n",
    "dataset_final['guilty_plea_order'] = dataset_final['guilty_plea'].apply(\n",
    "    lambda x: 2 if x == 'Вина признана полностью' else 1 if x == 'Вина признана частично' else 0 \n",
    ")"
   ]
  },
  {
   "cell_type": "code",
   "execution_count": 551,
   "metadata": {},
   "outputs": [],
   "source": [
    "## Преобразования для правильного объединения таблиц \n",
    "## Удаление дубликатов\n",
    "\n",
    "dataset_final = dataset_final.merge(\n",
    "    data[['ID', 'ФИО', 'Дата поступления']], \n",
    "    on=['ID', 'Дата поступления']\n",
    ").drop_duplicates().copy()\n",
    "\n",
    "dataset_final = dataset_final.merge(data[[\n",
    "    'ФИО', 'recidivism_type'\n",
    "]], on='ФИО', how='left').copy()"
   ]
  },
  {
   "cell_type": "code",
   "execution_count": 559,
   "metadata": {},
   "outputs": [],
   "source": [
    "## Функция кодирования степени рецидивизма и применение к колонке\n",
    "\n",
    "def code_recidivism(x):\n",
    "    if x == 'нет судимости': \n",
    "        return 0\n",
    "    elif x == 'судимость не признана рецидивом': \n",
    "        return 1\n",
    "    elif x == 'рецидив': \n",
    "        return 2\n",
    "    elif x == 'опасный рецидив':\n",
    "        return 3\n",
    "    else:\n",
    "        return 4\n",
    "    \n",
    "dataset_final['recidivism_type'] = dataset_final['recidivism_type'].apply(\n",
    "    lambda x: code_recidivism(x)\n",
    ")"
   ]
  },
  {
   "cell_type": "code",
   "execution_count": 561,
   "metadata": {},
   "outputs": [],
   "source": [
    "## Присоединение переменных оружия к полученной базе \n",
    "\n",
    "dataset_final = dataset_final.merge(data[['ФИО', 'weapon_knife', 'weapon_gun']], on='ФИО').copy()\n",
    "dataset_final = dataset_final.merge(data[['ФИО', 'weapon_hands', 'weapon_legs']], on='ФИО').copy()\n",
    "dataset_final = dataset_final.merge(\n",
    "    data[['ФИО', 'weapon_other', 'weapon_not_used']], on='ФИО'\n",
    ").drop_duplicates(subset='ID').copy()\n",
    "dataset_final = dataset_final.drop_duplicates(subset='ID').copy()"
   ]
  },
  {
   "cell_type": "code",
   "execution_count": 612,
   "metadata": {},
   "outputs": [],
   "source": [
    "## Добавление количества постов на уголовное дело \n",
    "\n",
    "dataset_final['surname'] = dataset_final['ФИО']\n",
    "dataset_final_new = dataset_final.merge(\n",
    "    posts_vk_rel_cols['surname'].value_counts().reset_index(),\n",
    "    on='surname'\n",
    ").copy()\n",
    "dataset_final_new = dataset_final_new.rename(columns={'count': 'posts_count'})"
   ]
  },
  {
   "cell_type": "code",
   "execution_count": 723,
   "metadata": {},
   "outputs": [],
   "source": [
    "## Формирование списка характеристик медиа\n",
    "## Смещение значения переменных в ноль\n",
    "\n",
    "media_cols = ['views_cnt', 'likes_cnt', 'comments_cnt', 'reposts_cnt', 'posts_count']\n",
    "for i in media_cols:\n",
    "    dataset_final_new[i] = dataset_final_new[i] - min(dataset_final_new[i]) + 0.00001"
   ]
  },
  {
   "cell_type": "code",
   "execution_count": 787,
   "metadata": {},
   "outputs": [],
   "source": [
    "## Отбор релевантных колонок\n",
    "\n",
    "data_no_pub = data[\n",
    "     (data['ID'].isin(fast_id['ID'].tolist() + model_id['ID'].tolist())) &\\\n",
    "    (~data['ID'].isin(dataset_final_new['ID']))\n",
    "][['ID', 'ФИО', 'surname', 'Дата решения', 'Дата поступления', 'text', 'gender_judge', 'gender_victim', 'soft',\n",
    "       'hard', 'recidivism', 'guilty_plea', 'alcohol', 'year',\n",
    "       'sentence_period_months_int', 'sentence_period_years_int', 'recidivism_type',\n",
    " 'weapon_knife', 'weapon_gun',  'weapon_hands', 'weapon_legs', 'weapon_other', 'weapon_not_used' ]].copy()"
   ]
  },
  {
   "cell_type": "code",
   "execution_count": 789,
   "metadata": {},
   "outputs": [],
   "source": [
    "## Удаление наблюдений, у которых нельзя определить срок заключения\n",
    "\n",
    "data_no_pub_new = data_no_pub[\n",
    "    (~data_no_pub['sentence_period_months_int'].isin([\n",
    "        'ЧИСЛО МЕСЯЦЕВ В СРОКЕ НЕ УСТАНОВЛЕНО', 'ДАННЫЕ ИЗЪЯТЫ'\n",
    "    ])) &\n",
    "    (~data_no_pub['sentence_period_years_int'].isin([\n",
    "        'ЧИСЛО МЕСЯЦЕВ В СРОКЕ НЕ УСТАНОВЛЕНО', 'ДАННЫЕ ИЗЪЯТЫ'\n",
    "    ])) \n",
    "].copy()"
   ]
  },
  {
   "cell_type": "code",
   "execution_count": 791,
   "metadata": {},
   "outputs": [],
   "source": [
    "## Формирование целевой переменной \n",
    "\n",
    "data_no_pub_new['months_final'] = data_no_pub_new['sentence_period_months_int'].apply(\n",
    "    lambda x: int(x.split('.')[0]) if x.replace('.', '').isdigit() else 0\n",
    ")\n",
    "data_no_pub_new['years_final'] = data_no_pub_new['sentence_period_years_int'].apply(\n",
    "    lambda x: int(x.split('.')[0]) if x.replace('.', '').isdigit() else 0\n",
    ")\n",
    "data_no_pub_new['length_of_imprisonment'] = data_no_pub_new['years_final'] * 12 + data_no_pub_new['months_final']\n",
    "data_no_pub_new = data_no_pub_new[\n",
    "    data_no_pub_new['length_of_imprisonment'] != 0\n",
    "]"
   ]
  },
  {
   "cell_type": "code",
   "execution_count": 795,
   "metadata": {},
   "outputs": [],
   "source": [
    "## Кодирование переменных \n",
    "\n",
    "data_no_pub_new['gender_judge_bin'] = data_no_pub_new['gender_judge'].apply(\n",
    "    lambda x: 1 if x == 'Мужской' else 0\n",
    ")\n",
    "data_no_pub_new['soft_bin'] = data_no_pub_new['soft'].apply(\n",
    "    lambda x: 1 if x == 'Смягчающие признаны' else 0 \n",
    ")\n",
    "data_no_pub_new['hard_bin'] = data_no_pub_new['hard'].apply(\n",
    "    lambda x: 1 if x == 'Отягчающие признаны' else 0 \n",
    ")\n",
    "data_no_pub_new['recidivism_bin'] = data_no_pub_new['recidivism'].apply(\n",
    "    lambda x: 1 if x == 'есть судимость' else 0 \n",
    ")\n",
    "data_no_pub_new['alcohol_bin'] = data_no_pub_new['alcohol'].apply(\n",
    "    lambda x: 1 if x == 'Алкоголь присутствует' else 0 \n",
    ")\n",
    "data_no_pub_new['guilty_plea_order'] = data_no_pub_new['guilty_plea'].apply(\n",
    "    lambda x: 2 if x == 'Вина признана полностью' else 1 if x == 'Вина признана частично' else 0 \n",
    ")\n",
    "data_no_pub_new['recidivism_type'] = data_no_pub_new['recidivism_type'].apply(\n",
    "    lambda x: code_recidivism(x)\n",
    ")"
   ]
  },
  {
   "cell_type": "code",
   "execution_count": 843,
   "metadata": {},
   "outputs": [],
   "source": [
    "## Объединение двух частей датасета в один\n",
    "## На данном этапе учитываются как дела с наличием упоминаний в ВК, так и без \n",
    "\n",
    "data_media = pd.concat([\n",
    "    dataset_final_new,\n",
    "    data_no_pub_new\n",
    "]).copy()\n",
    "data_media = data_media.dropna(subset='Дата решения')\n",
    "data_media = data_media.fillna(0)"
   ]
  },
  {
   "cell_type": "code",
   "execution_count": 873,
   "metadata": {},
   "outputs": [],
   "source": [
    "## Повторная проверка возможности составить целевую переменную \n",
    "\n",
    "data_media = data_media[\n",
    "    (~data_media['sentence_period_months_int'].isin(['ЧИСЛО ЛЕТ В СРОКЕ НЕ УСТАНОВЛЕНО']))\n",
    "].copy()\n",
    "data_media = data_media[\n",
    "    (~data_media['sentence_period_years_int'].isin(['ЧИСЛО ЛЕТ В СРОКЕ НЕ УСТАНОВЛЕНО']))\n",
    "].copy()"
   ]
  },
  {
   "cell_type": "code",
   "execution_count": 932,
   "metadata": {},
   "outputs": [],
   "source": [
    "## Бинаризация переменных степени признания вины и степени рецидива \n",
    "\n",
    "data_media_new = pd.concat([data_media, pd.get_dummies(data_media['guilty_plea'])], axis=1).copy()\n",
    "data_media_new =  pd.concat([data_media_new, pd.get_dummies(data_media['recidivism_type'])], axis=1).copy()"
   ]
  },
  {
   "cell_type": "code",
   "execution_count": 934,
   "metadata": {
    "scrolled": true
   },
   "outputs": [],
   "source": [
    "## Форматирование названия колонок \n",
    "\n",
    "data_media_new = data_media_new.rename(\n",
    "    columns = {\n",
    "        'Вина не признана': 'guilty_plea_0',\n",
    "        'Вина признана частично': 'guilty_plea_1',\n",
    "        'Вина признана полностью': 'guilty_plea_2',\n",
    "        0: 'recidivism_type_0',\n",
    "        1: 'recidivism_type_1',\n",
    "        2: 'recidivism_type_2',\n",
    "        3: 'recidivism_type_3',\n",
    "        4: 'recidivism_type_4',\n",
    "    }\n",
    ")\n",
    "bin_list = ['guilty_plea_0',\n",
    "'guilty_plea_1',\n",
    "'guilty_plea_2',\n",
    "'recidivism_type_0',\n",
    "'recidivism_type_1',\n",
    "'recidivism_type_2',\n",
    "'recidivism_type_3',\n",
    "'recidivism_type_4',]\n",
    "\n",
    "for col in bin_list:\n",
    "    data_media_new[col] = data_media_new[col].apply(lambda x: int(x))"
   ]
  },
  {
   "cell_type": "code",
   "execution_count": 935,
   "metadata": {},
   "outputs": [],
   "source": [
    "## Смещение целевой переменной в ноль для интерпретации\n",
    "\n",
    "data_media_new['length_of_imprisonment_null'] = data_media_new['length_of_imprisonment'] - min(data_media_new['length_of_imprisonment'])\n",
    "\n",
    "## Присваивание нужного типа данных дихотомическим переменным\n",
    "bin_list = ['guilty_plea_0',\n",
    "'guilty_plea_1',\n",
    "'guilty_plea_2',\n",
    "'recidivism_type_0',\n",
    "'recidivism_type_1',\n",
    "'recidivism_type_2',\n",
    "'recidivism_type_3',\n",
    "'recidivism_type_4',]\n",
    "for col in bin_list:\n",
    "    data_media_new[col] = data_media_new[col].apply(lambda x: int(x))"
   ]
  },
  {
   "cell_type": "code",
   "execution_count": 1029,
   "metadata": {},
   "outputs": [],
   "source": [
    "data_media_new.to_csv('data_media_final.csv')"
   ]
  },
  {
   "cell_type": "code",
   "execution_count": null,
   "metadata": {},
   "outputs": [],
   "source": [
    "## Датасет на базе финального в статье "
   ]
  },
  {
   "cell_type": "code",
   "execution_count": 1045,
   "metadata": {},
   "outputs": [],
   "source": [
    "## Отбор в финальной базе данных статьи с помощью идентификаторов наблюдений, \n",
    "## которые релевантны в качестве выборки \n",
    "\n",
    "data_reg_media = data_reg[\n",
    "    data_reg['ID'].isin(\n",
    "        data_media['ID'].tolist()\n",
    "    )\n",
    "].copy()"
   ]
  },
  {
   "cell_type": "code",
   "execution_count": 1098,
   "metadata": {},
   "outputs": [],
   "source": [
    "## Кодирование переменных \n",
    "\n",
    "data_reg_media['recidivism_type_order'] = data_reg_media['recidivism_type'].apply(lambda x: x.split()[0])\n",
    "data_reg_media['guilty_plea_order'] = data_reg_media['guilty_plea'].apply(lambda x: x.split()[0])\n",
    "data_reg_media['soft_bin'] = data_reg_media['soft_binary'].apply(lambda x: int(x.split()[0]))\n",
    "data_reg_media['hard_bin'] = data_reg_media['hard_binary'].apply(lambda x: int(x.split()[0]))\n",
    "data_reg_media['child_bin'] = data_reg_media['children'].apply(lambda x: x.split()[0])\n",
    "data_reg_media['child_bin'] = data_reg_media['child_bin'].apply(lambda x: int(x))"
   ]
  },
  {
   "cell_type": "code",
   "execution_count": 1076,
   "metadata": {},
   "outputs": [],
   "source": [
    "## Исправление колонок после дихотомизации переменной степени признания вины\n",
    "\n",
    "data_reg_media = pd.concat([data_reg_media, pd.get_dummies(data_reg_media['guilty_plea_order'])], axis=1).copy()\n",
    "data_reg_media = data_reg_media.rename(\n",
    "    columns = {\n",
    "        '0': 'guilty_plea_0',\n",
    "        '1': 'guilty_plea_1',\n",
    "        '2': 'guilty_plea_2',\n",
    "    }\n",
    ")"
   ]
  },
  {
   "cell_type": "code",
   "execution_count": 1081,
   "metadata": {},
   "outputs": [],
   "source": [
    "## Исправление колонок после дихотомизации переменной степени рецидива\n",
    "\n",
    "data_reg_media =  pd.concat([data_reg_media, pd.get_dummies(data_reg_media['recidivism_type_order'])], axis=1).copy()\n",
    "data_reg_media = data_reg_media.rename(\n",
    "    columns = {\n",
    "        '0': 'recidivism_type_0',\n",
    "        '1': 'recidivism_type_1',\n",
    "        '2': 'recidivism_type_2',\n",
    "        '3': 'recidivism_type_3',\n",
    "        '4': 'recidivism_type_4',\n",
    "    }\n",
    ")"
   ]
  },
  {
   "cell_type": "code",
   "execution_count": 1083,
   "metadata": {},
   "outputs": [],
   "source": [
    "## Присвоение нужного типа данных дихотомическим переменным \n",
    "\n",
    "bin_list = ['guilty_plea_0',\n",
    "'guilty_plea_1',\n",
    "'guilty_plea_2',\n",
    "'recidivism_type_0',\n",
    "'recidivism_type_1',\n",
    "'recidivism_type_2',\n",
    "'recidivism_type_3',\n",
    "'recidivism_type_4',]\n",
    "for col in bin_list:\n",
    "    data_reg_media[col] = data_reg_media[col].apply(lambda x: int(x))"
   ]
  },
  {
   "cell_type": "code",
   "execution_count": 1086,
   "metadata": {},
   "outputs": [],
   "source": [
    "## Кодирование переменных \n",
    "## Смещение целевой переменной в ноль \n",
    "\n",
    "data_reg_media['gender_judge_bin'] = data_reg_media['gender_judge'].apply(\n",
    "    lambda x: 1 if x == 'Мужской' else 0\n",
    ")\n",
    "data_reg_media['posts_bin'] = data_reg_media['posts_count'].apply(lambda x: 1 if x > 0 else 0)\n",
    "data_reg_media['sentence_period_whole_null'] = data_reg_media['sentence_period_whole'] - data_reg_media['sentence_period_whole'].min()"
   ]
  },
  {
   "cell_type": "code",
   "execution_count": 1176,
   "metadata": {},
   "outputs": [],
   "source": [
    "data_reg_media.to_csv('final_data_diplom.csv')"
   ]
  },
  {
   "cell_type": "code",
   "execution_count": 1277,
   "metadata": {},
   "outputs": [
    {
     "data": {
      "text/plain": [
       "Index(['Unnamed: 0', 'ID', 'gender_victim', 'gender_judge', 'gender_offender',\n",
       "       'recidivism_type', 'guilty_plea', 'soft_binary', 'hard_binary',\n",
       "       'rel_type', 'year', 'children', 'sentence_period_whole', 'region',\n",
       "       'Наименование суда', 'likes_cnt', 'views_cnt', 'reposts_cnt',\n",
       "       'comments_cnt', 'posts_count', 'likes_cnt_square', 'views_cnt_square',\n",
       "       'reposts_cnt_square', 'comments_cnt_square', 'posts_count_square',\n",
       "       'likes_cnt_poly_2', 'views_cnt_poly_2', 'reposts_cnt_poly_2',\n",
       "       'comments_cnt_poly_2', 'posts_count_poly_2', 'likes_cnt_sqrt',\n",
       "       'views_cnt_sqrt', 'reposts_cnt_sqrt', 'comments_cnt_sqrt',\n",
       "       'posts_count_sqrt', 'log_likes_cnt', 'log_views_cnt', 'log_reposts_cnt',\n",
       "       'log_comments_cnt', 'log_posts_count', 'recidivism_type_order',\n",
       "       'guilty_plea_order', 'soft_bin', 'hard_bin', 'child_bin',\n",
       "       'guilty_plea_0', 'guilty_plea_1', 'guilty_plea_2', 'recidivism_type_0',\n",
       "       'recidivism_type_1', 'recidivism_type_2', 'recidivism_type_3',\n",
       "       'recidivism_type_4', 'gender_judge_bin', 'posts_bin',\n",
       "       'sentence_period_whole_null'],\n",
       "      dtype='object')"
      ]
     },
     "execution_count": 1277,
     "metadata": {},
     "output_type": "execute_result"
    }
   ],
   "source": [
    "data_reg_media.columns"
   ]
  },
  {
   "cell_type": "code",
   "execution_count": 1282,
   "metadata": {},
   "outputs": [],
   "source": [
    "data_reg_media_final = data_reg_media.merge(data[['ID', 'surname']], on='ID').drop(\n",
    "    columns = ['Unnamed: 0']\n",
    ").copy()"
   ]
  },
  {
   "cell_type": "code",
   "execution_count": 1290,
   "metadata": {},
   "outputs": [],
   "source": [
    "data_reg_media_final[[\n",
    "       'ID', 'gender_judge', 'recidivism_type', 'guilty_plea', 'soft_binary', 'hard_binary',\n",
    "       'rel_type', 'year', 'children', 'sentence_period_whole', 'region',\n",
    "       'Наименование суда', 'likes_cnt', 'views_cnt', 'reposts_cnt',\n",
    "       'comments_cnt', 'posts_count', 'recidivism_type_order',\n",
    "       'guilty_plea_order', 'soft_bin', 'hard_bin', 'child_bin',\n",
    "       'guilty_plea_0', 'guilty_plea_1', 'guilty_plea_2', 'recidivism_type_0',\n",
    "       'recidivism_type_1', 'recidivism_type_2', 'recidivism_type_3',\n",
    "       'recidivism_type_4', 'gender_judge_bin', 'posts_bin',\n",
    "       'sentence_period_whole_null', 'surname'\n",
    "]].to_excel('База_данных_ВКР_Хамрин_Роман.xlsx')"
   ]
  },
  {
   "cell_type": "code",
   "execution_count": null,
   "metadata": {},
   "outputs": [],
   "source": []
  }
 ],
 "metadata": {
  "colab": {
   "provenance": []
  },
  "kernelspec": {
   "display_name": "Python 3 (ipykernel)",
   "language": "python",
   "name": "python3"
  },
  "language_info": {
   "codemirror_mode": {
    "name": "ipython",
    "version": 3
   },
   "file_extension": ".py",
   "mimetype": "text/x-python",
   "name": "python",
   "nbconvert_exporter": "python",
   "pygments_lexer": "ipython3",
   "version": "3.10.2"
  }
 },
 "nbformat": 4,
 "nbformat_minor": 1
}
